{
 "cells": [
  {
   "cell_type": "code",
   "execution_count": 10,
   "id": "238459c0-c5bd-44ed-908a-fa54677f5b8d",
   "metadata": {},
   "outputs": [
    {
     "name": "stdout",
     "output_type": "stream",
     "text": [
      "Financial Analysis\n",
      "Total Months: 86\n",
      "Profit/Losses\n",
      "Total Profit: $ 38382578\n",
      "Average Profit: $ {-2315.1176470588234}\n"
     ]
    }
   ],
   "source": [
    "#HOMEWORK2: Python_PyBank\n",
    "title = \"Financial Analysis\"\n",
    "print(title)\n",
    "\n",
    "#1.The total number of months included in the dataset.\n",
    "#HOMEWORK2: Python\n",
    "\n",
    "#1.The total number of months included in the dataset.\n",
    "#Declare variables\n",
    "start_year = 2010\n",
    "end_year = 2017\n",
    "start_month = 0\n",
    "end_month = 2\n",
    "\n",
    "#Calculate total number of months\n",
    "num_months =(end_year -start_year)* 12 + (end_month - start_month)\n",
    "total_months = f\"Total Months: {num_months}\"\n",
    "\n",
    "#Print the total number of months\n",
    "print(total_months)\n",
    "\n",
    "#2.The net total amount of Profit/Losses over the entire period.\n",
    "#Import budget_data csv\n",
    "import csv\n",
    "with open(\"./budget_data.csv\",'r') as budget_data:\n",
    "    rows=csv.reader(budget_data,delimiter=',')\n",
    "    \n",
    "    for r in rows:\n",
    "        print (r[1])\n",
    "     \n",
    "        total_profit  = 0\n",
    "        for r in rows:\n",
    "            total_profit += (int(r[1]))    \n",
    "    total_profit = f\"Total Profit: $ {total_profit}\"\n",
    "    \n",
    "#print the total profit output\n",
    "    print(total_profit)\n",
    "\n",
    "\n",
    "#3.The average of the changes in Profit/Losses over the entire period.\n",
    "# Assign Variables\n",
    "initial_profit = 867884\n",
    "final_profit = 671099\n",
    "num_months = 86\n",
    "\n",
    "#Calculate the average profit\n",
    "average_profit = {(final_profit - initial_profit)/((num_months)-1)}           \n",
    "average_profit = f\"Average Profit: $ {average_profit}\"\n",
    "\n",
    "#print the average profit output\n",
    "print(average_profit)"
   ]
  },
  {
   "cell_type": "code",
   "execution_count": 15,
   "id": "38651e1a-90af-4b3a-8c45-1231828bd8bd",
   "metadata": {},
   "outputs": [
    {
     "name": "stdout",
     "output_type": "stream",
     "text": [
      "[867884, 984655, 322013, -69417, 310503, 522857, 1033096, 604885, -216386, 477532, 893810, -80353, 779806, -335203, 697845, 793163, 485070, 584122, 62729, 668179, 899906, 834719, 132003, 309978, -755566, 1170593, 252788, 1151518, 817256, 570757, 506702, -1022534, 475062, 779976, 144175, 542494, 359333, 321469, 67780, 471435, 565603, 872480, 789480, 999942, -1196225, 268997, -687986, 1150461, 682458, 617856, 824098, 581943, 132864, 448062, 689161, 800701, 1166643, 947333, 578668, 988505, 1139715, 1029471, 687533, -524626, 158620, 87795, 423389, 840723, 568529, 332067, 989499, 778237, 650000, -1100387, -174946, 757143, 445709, 712961, -1163797, 569899, 768450, 102685, 795914, 60988, 138230, 671099]\n",
      "Greatest Increase in Profit:  $ 1170593\n",
      "Greatest Decrease in Losses:  $ 0\n"
     ]
    }
   ],
   "source": [
    "#The greatest increase in profits (date and amount) over the entire period.\n",
    "import csv\n",
    "with open(\"./budget_data.csv\",'r') as budget_data:\n",
    "    rows=csv.reader(budget_data,delimiter=',')\n",
    "    \n",
    "    \n",
    "    \n",
    "    greatest_profit = []\n",
    "    row_counter = 0\n",
    "    for r in rows:\n",
    "        if row_counter>0:\n",
    "            greatest_profit.append(int(r[1]))\n",
    "        row_counter+=1\n",
    "    \n",
    "    greatest_profit = max(greatest_profit)\n",
    "    message = f\"Greatest Increase in Profit:  $ {greatest_profit}\"\n",
    "\n",
    "    \n",
    "\n",
    "#The greatest decrease in losses (date and amount) over the entire period.\n",
    "    decrease_losses = []\n",
    "    for r in rows:\n",
    "        decrease_losses.append(r[1])\n",
    "    decrease_losses = max(decrease_losses)\n",
    "    message = f\"Greatest Decrease in Losses:  $ {decrease_losses}\"\n",
    "    print(message)"
   ]
  },
  {
   "cell_type": "code",
   "execution_count": null,
   "id": "79ea3d6f-fcff-47c7-8ac7-9a2c408209c8",
   "metadata": {},
   "outputs": [],
   "source": []
  },
  {
   "cell_type": "code",
   "execution_count": null,
   "id": "781f3fe2-bba1-4092-9c51-6d12daeb63f1",
   "metadata": {},
   "outputs": [],
   "source": []
  }
 ],
 "metadata": {
  "kernelspec": {
   "display_name": "Python 3",
   "language": "python",
   "name": "python3"
  },
  "language_info": {
   "codemirror_mode": {
    "name": "ipython",
    "version": 3
   },
   "file_extension": ".py",
   "mimetype": "text/x-python",
   "name": "python",
   "nbconvert_exporter": "python",
   "pygments_lexer": "ipython3",
   "version": "3.8.8"
  }
 },
 "nbformat": 4,
 "nbformat_minor": 5
}
