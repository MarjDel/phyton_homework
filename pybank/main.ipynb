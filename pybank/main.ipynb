{
 "cells": [
  {
   "cell_type": "code",
   "execution_count": 3,
   "id": "238459c0-c5bd-44ed-908a-fa54677f5b8d",
   "metadata": {},
   "outputs": [
    {
     "name": "stdout",
     "output_type": "stream",
     "text": [
      "Financial Analysis\n",
      "Total Months: 86\n",
      "Profit/Losses\n",
      "Total Profit: $ 38382578\n",
      "Average Profit: $ {-2315.1176470588234}\n"
     ]
    }
   ],
   "source": [
    "#HOMEWORK2: Python_PyBank\n",
    "title = \"Financial Analysis\"\n",
    "print(title)\n",
    "\n",
    "#1.The total number of months included in the dataset.\n",
    "#HOMEWORK2: Python\n",
    "\n",
    "#1.The total number of months included in the dataset.\n",
    "#Declare variables\n",
    "start_year = 2010\n",
    "end_year = 2017\n",
    "start_month = 0\n",
    "end_month = 2\n",
    "\n",
    "#Calculate total number of months\n",
    "num_months =(end_year -start_year)* 12 + (end_month - start_month)\n",
    "total_months = f\"Total Months: {num_months}\"\n",
    "\n",
    "#Print the total number of months\n",
    "print(total_months)\n",
    "\n",
    "#2.The net total amount of Profit/Losses over the entire period.\n",
    "#Import budget_data csv\n",
    "import csv\n",
    "with open(\"../homework_final/budget_data.csv\",'r') as budget_data:\n",
    "    rows=csv.reader(budget_data,delimiter=',')\n",
    "    \n",
    "    for r in rows:\n",
    "        print (r[1])\n",
    "     \n",
    "        total_profit  = 0\n",
    "        for r in rows:\n",
    "            total_profit += (int(r[1]))    \n",
    "    total_profit = f\"Total Profit: $ {total_profit}\"\n",
    "    \n",
    "#print the total profit output\n",
    "    print(total_profit)\n",
    "\n",
    "\n",
    "#3.The average of the changes in Profit/Losses over the entire period.\n",
    "# Assign Variables\n",
    "initial_profit = 867884\n",
    "final_profit = 671099\n",
    "num_months = 86\n",
    "\n",
    "#Calculate the average profit\n",
    "average_profit = {(final_profit - initial_profit)/((num_months)-1)}           \n",
    "average_profit = f\"Average Profit: $ {average_profit}\"\n",
    "\n",
    "#print the average profit output\n",
    "print(average_profit)"
   ]
  },
  {
   "cell_type": "code",
   "execution_count": null,
   "id": "38651e1a-90af-4b3a-8c45-1231828bd8bd",
   "metadata": {},
   "outputs": [],
   "source": [
    "#The greatest increase in profits (date and amount) over the entire period.\n",
    "import csv\n",
    "with open(\"../practice_phython/budget_data.csv\",'r') as budget_data:\n",
    "    rows=csv.reader(budget_data,delimiter=',')\n",
    "    \n",
    "    greatest_profit = r[0]\n",
    "    for r in rows:\n",
    "        greatest_profit.append(r[1])\n",
    "    greatest_profit = max(greatest_profit, key=int)\n",
    "    message = f\"Greatest Increase in Profit:  $ {greatest_profit}\"\n",
    "    print(message)\n",
    "    \n",
    "\n",
    "#The greatest decrease in losses (date and amount) over the entire period.\n",
    "    decrease_losses = r[]\n",
    "    for r in rows:\n",
    "        decrease_losses.append(r[1])\n",
    "    decrease_losses = max(decrease_losses, key=int)\n",
    "    message = f\"Greatest Decrease in Losses:  $ {decrease_losses}\"\n",
    "    print(message)"
   ]
  }
 ],
 "metadata": {
  "kernelspec": {
   "display_name": "Python 3",
   "language": "python",
   "name": "python3"
  },
  "language_info": {
   "codemirror_mode": {
    "name": "ipython",
    "version": 3
   },
   "file_extension": ".py",
   "mimetype": "text/x-python",
   "name": "python",
   "nbconvert_exporter": "python",
   "pygments_lexer": "ipython3",
   "version": "3.8.8"
  }
 },
 "nbformat": 4,
 "nbformat_minor": 5
}
